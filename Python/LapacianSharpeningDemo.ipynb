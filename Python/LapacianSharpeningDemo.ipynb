{
 "cells": [
  {
   "cell_type": "markdown",
   "metadata": {},
   "source": [
    "<h1 align=\"center\">Image Sharpening Example using SimpleITK</h1>\n",
    "\n",
    "This is a simple demonstration of the power of SimpleITK, based on its C++ equivalent shown here: https://itk.org/Wiki/ITK/Examples/ImageProcessing/LaplacianSharpeningImageFilter\n",
    "\n",
    "We assume the an image is available and located in the same directory as this Jupyter Notebook. In this case, an image of a woodpicker is copied and saved as 'woodpicker.png\" from the [URL](https://itk.org/Wiki/ITK/Examples/ImageProcessing/LaplacianSharpeningImageFilter) above."
   ]
  },
  {
   "cell_type": "code",
   "execution_count": 12,
   "metadata": {},
   "outputs": [],
   "source": [
    "# import SimpleITK library\n",
    "import SimpleITK as sitk"
   ]
  },
  {
   "cell_type": "code",
   "execution_count": 14,
   "metadata": {
    "collapsed": true
   },
   "outputs": [],
   "source": [
    "# Assuming the image is located in the same directory as this Jupyter Notebook, this is how we can load an image\n",
    "#\n",
    "# The input to the function is a string (enclosed in '') of the file name.\n",
    "# The output is the image/array. Note no explicit typing is needed in Python\n",
    "img = sitk.ReadImage('woodpicker.png')"
   ]
  },
  {
   "cell_type": "code",
   "execution_count": 15,
   "metadata": {
    "collapsed": true
   },
   "outputs": [],
   "source": [
    "# display the image. If we set up our environment properly using the in-class example, ImageJ will be used to display the image.\n",
    "sitk.Show(img)\n",
    "\n",
    "# Note there is a slider bar in ImageJ, why?"
   ]
  },
  {
   "cell_type": "code",
   "execution_count": 16,
   "metadata": {},
   "outputs": [],
   "source": [
    "lap = sitk.LaplacianSharpeningImageFilter() # this is an in-line comment"
   ]
  },
  {
   "cell_type": "code",
   "execution_count": 17,
   "metadata": {},
   "outputs": [],
   "source": [
    "outimg = lap.Execute(img) # input is the original image, output is the sharpened image"
   ]
  },
  {
   "cell_type": "code",
   "execution_count": 18,
   "metadata": {
    "collapsed": true
   },
   "outputs": [],
   "source": [
    "sitk.Show(outimg) # display the result."
   ]
  },
  {
   "cell_type": "markdown",
   "metadata": {},
   "source": [
    "This is it!  Compare this python code in SimpleITK to the [C++ equivalent](https://itk.org/Wiki/ITK/Examples/ImageProcessing/LaplacianSharpeningImageFilter) in ITK."
   ]
  }
 ],
 "metadata": {
  "kernelspec": {
   "display_name": "Python 3",
   "language": "python",
   "name": "python3"
  },
  "language_info": {
   "codemirror_mode": {
    "name": "ipython",
    "version": 3
   },
   "file_extension": ".py",
   "mimetype": "text/x-python",
   "name": "python",
   "nbconvert_exporter": "python",
   "pygments_lexer": "ipython3",
   "version": "3.4.5"
  }
 },
 "nbformat": 4,
 "nbformat_minor": 2
}
