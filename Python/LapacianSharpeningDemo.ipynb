{
 "cells": [
  {
   "cell_type": "markdown",
   "metadata": {},
   "source": [
    "<h1 align=\"center\">Image Sharpening Example using SimpleITK</h1>\n",
    "\n",
    "This is a simple demonstration of the power of SimpleITK, based on its C++ equivalent shown here: https://itk.org/Wiki/ITK/Examples/ImageProcessing/LaplacianSharpeningImageFilter\n",
    "\n",
    "We assume the an image is available and located in the same directory as this Jupyter Notebook. In this case, an image of a woodpicker is copied and saved as 'woodpicker.png\" from the [URL](https://itk.org/Wiki/ITK/Examples/ImageProcessing/LaplacianSharpeningImageFilter) above."
   ]
  },
  {
   "cell_type": "code",
   "execution_count": null,
   "metadata": {},
   "outputs": [],
   "source": [
    "# import SimpleITK library\n",
    "import SimpleITK as sitk"
   ]
  },
  {
   "cell_type": "code",
   "execution_count": null,
   "metadata": {},
   "outputs": [],
   "source": [
    "# Assuming the image is located under the data/image directory, this is how we can load an image\n",
    "#\n",
    "# The input to the function is a string (enclosed in '') of the file name.\n",
    "# The output is the image/array. Note no explicit typing is needed in Python\n",
    "img = sitk.ReadImage('..\\data\\images\\woodpicker.png')"
   ]
  },
  {
   "cell_type": "code",
   "execution_count": null,
   "metadata": {},
   "outputs": [],
   "source": [
    "# display the image. If we set up our environment properly using the in-class example, ImageJ will be used to display the image.\n",
    "sitk.Show(img)\n",
    "\n",
    "# Note there is a slider bar in ImageJ, why?"
   ]
  },
  {
   "cell_type": "code",
   "execution_count": null,
   "metadata": {},
   "outputs": [],
   "source": [
    "lap = sitk.LaplacianSharpeningImageFilter() # this is an in-line comment"
   ]
  },
  {
   "cell_type": "code",
   "execution_count": null,
   "metadata": {},
   "outputs": [],
   "source": [
    "outimg = lap.Execute(img) # input is the original image, output is the sharpened image"
   ]
  },
  {
   "cell_type": "code",
   "execution_count": null,
   "metadata": {},
   "outputs": [],
   "source": [
    "sitk.Show(outimg) # display the result."
   ]
  },
  {
   "cell_type": "code",
   "execution_count": null,
   "metadata": {},
   "outputs": [],
   "source": [
    "diff = sitk.SubtractImageFilter() # one way to see the difference is to substract these two images"
   ]
  },
  {
   "cell_type": "code",
   "execution_count": null,
   "metadata": {},
   "outputs": [],
   "source": [
    "diffImg = diff.Execute(img,outimg)"
   ]
  },
  {
   "cell_type": "code",
   "execution_count": null,
   "metadata": {},
   "outputs": [],
   "source": [
    "sitk.Show(diffImg) # display the difference-image"
   ]
  },
  {
   "cell_type": "markdown",
   "metadata": {},
   "source": [
    "This is it!  Compare this python code in SimpleITK to the [C++ equivalent](https://itk.org/Wiki/ITK/Examples/ImageProcessing/LaplacianSharpeningImageFilter) in ITK."
   ]
  },
  {
   "cell_type": "markdown",
   "metadata": {},
   "source": [
    "```cpp\n",
    "#include \"itkImage.h\"\n",
    "#include \"itkImageFileReader.h\"\n",
    "#include \"itkRescaleIntensityImageFilter.h\"\n",
    "#include \"itkLaplacianSharpeningImageFilter.h\"\n",
    "#include \"itkSubtractImageFilter.h\"\n",
    " \n",
    "#include \"QuickView.h\"\n",
    " \n",
    "int main(int argc, char * argv[])\n",
    "{\n",
    "  // Verify command line arguments\n",
    "  if( argc < 2 )\n",
    "    {\n",
    "    std::cerr << \"Usage: \" << std::endl;\n",
    "    std::cerr << argv[0] << \" inputImageFile\" << std::endl;\n",
    "    return EXIT_FAILURE;\n",
    "    }\n",
    " \n",
    "  // Parse command line arguments\n",
    "  std::string inputFilename = argv[1];\n",
    " \n",
    "  // Setup types\n",
    "  typedef itk::Image< float,  2 >   FloatImageType;\n",
    " \n",
    "  typedef itk::ImageFileReader< FloatImageType >  readerType;\n",
    "  readerType::Pointer reader = readerType::New();\n",
    "  reader->SetFileName(inputFilename);\n",
    " \n",
    "  typedef itk::LaplacianSharpeningImageFilter<FloatImageType, FloatImageType >  LaplacianSharpeningImageFilterType;\n",
    "  LaplacianSharpeningImageFilterType::Pointer laplacianSharpeningImageFilter =\n",
    "    LaplacianSharpeningImageFilterType::New();\n",
    "  laplacianSharpeningImageFilter->SetInput( reader->GetOutput() );\n",
    " \n",
    "  typedef itk::SubtractImageFilter<FloatImageType>           SubtractType;\n",
    "  SubtractType::Pointer diff = SubtractType::New();\n",
    "  diff->SetInput1(reader->GetOutput());\n",
    "  diff->SetInput2(laplacianSharpeningImageFilter->GetOutput());\n",
    " \n",
    "  QuickView viewer;\n",
    "  viewer.AddImage(\n",
    "    reader->GetOutput(),true,\n",
    "    itksys::SystemTools::GetFilenameName(argv[1]));  \n",
    " \n",
    "  std::stringstream desc;\n",
    "  desc << \"LaplacianSharpeningImageFilter\";\n",
    "  viewer.AddImage(\n",
    "    laplacianSharpeningImageFilter->GetOutput(),\n",
    "    true,\n",
    "    desc.str());  \n",
    " \n",
    "  std::stringstream desc2;\n",
    "  desc2 << \"Original - LaplacianSharpening\";\n",
    "  viewer.AddImage(\n",
    "    diff->GetOutput(),\n",
    "    true,\n",
    "    desc2.str());  \n",
    " \n",
    "  viewer.Visualize();\n",
    "  return EXIT_SUCCESS;\n",
    "}\n",
    "```"
   ]
  }
 ],
 "metadata": {
  "kernelspec": {
   "display_name": "Python 3",
   "language": "python",
   "name": "python3"
  },
  "language_info": {
   "codemirror_mode": {
    "name": "ipython",
    "version": 3
   },
   "file_extension": ".py",
   "mimetype": "text/x-python",
   "name": "python",
   "nbconvert_exporter": "python",
   "pygments_lexer": "ipython3",
   "version": "3.4.5"
  }
 },
 "nbformat": 4,
 "nbformat_minor": 2
}
